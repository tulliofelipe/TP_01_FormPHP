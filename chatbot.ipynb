{
  "nbformat": 4,
  "nbformat_minor": 0,
  "metadata": {
    "colab": {
      "provenance": [],
      "authorship_tag": "ABX9TyPAFjqIqJJPaKX4RPubCHDg",
      "include_colab_link": true
    },
    "kernelspec": {
      "name": "python3",
      "display_name": "Python 3"
    },
    "language_info": {
      "name": "python"
    }
  },
  "cells": [
    {
      "cell_type": "markdown",
      "metadata": {
        "id": "view-in-github",
        "colab_type": "text"
      },
      "source": [
        "<a href=\"https://colab.research.google.com/github/tulliofelipe/TP_01_FormPHP/blob/main/chatbot.ipynb\" target=\"_parent\"><img src=\"https://colab.research.google.com/assets/colab-badge.svg\" alt=\"Open In Colab\"/></a>"
      ]
    },
    {
      "cell_type": "code",
      "execution_count": null,
      "metadata": {
        "colab": {
          "base_uri": "https://localhost:8080/"
        },
        "id": "kTlzXOs3E-IS",
        "outputId": "21a6c2b0-5fc3-4f0f-d1a8-aeb3d38d045e"
      },
      "outputs": [
        {
          "output_type": "stream",
          "name": "stdout",
          "text": [
            "voce:olÀ\n",
            "izadorabot: olÀ como posso te ajudar?\n"
          ]
        }
      ],
      "source": [
        "import nltk\n",
        "from nltk.chat.util import Chat, reflections\n",
        "\n",
        "#pares de inteçoes e slots\n",
        "pares =[\n",
        "   ['olÀ',['oi!','hellow!','psyu!','eai','olÀ como posso te ajudar?']],\n",
        "   ['qual e o seu nome?',[' meu nome È jennaortegabot.e o seu?']]\n",
        "   ['eu me chamo(.*)',['olÀ %1,e um prazer muito grande em  te conhecer']]\n",
        "   ['(.*)',['desculpe,não entendi.']]\n",
        "]\n",
        "# criando o chatbot\n",
        "chatbot = Chat(pares,reflections)\n",
        "\n",
        "while True:\n",
        "   entrada = input(\"voce:\")\n",
        "   if entrada.lower() == 'sair':\n",
        "       print('bye!')\n",
        "       break\n",
        "   resposta = chatbot.respond(entrada.lower())\n",
        "   print(\"jennaortegabot:\",resposta)"
      ]
    }
  ]
}